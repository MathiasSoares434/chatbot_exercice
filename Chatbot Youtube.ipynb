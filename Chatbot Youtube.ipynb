{
 "cells": [
  {
   "cell_type": "markdown",
   "id": "3dc947f3",
   "metadata": {},
   "source": [
    "### Criando um chatbot Inteligente"
   ]
  },
  {
   "cell_type": "code",
   "execution_count": 1,
   "id": "0a991c42",
   "metadata": {},
   "outputs": [
    {
     "name": "stdout",
     "output_type": "stream",
     "text": [
      "✔ Download and installation successful\n",
      "You can now load the package via spacy.load('en_core_web_sm')\n"
     ]
    }
   ],
   "source": [
    "from chatterbot import ChatBot\n",
    "from chatterbot.trainers import ListTrainer\n",
    "\n",
    "# isso aqui só precisa para corrigir o bug\n",
    "from spacy.cli import download\n",
    "\n",
    "download(\"en_core_web_sm\")\n",
    "\n",
    "class ENGSM:\n",
    "    ISO_639_1 = 'en_core_web_sm'\n"
   ]
  },
  {
   "cell_type": "code",
   "execution_count": null,
   "id": "d175ad93",
   "metadata": {},
   "outputs": [],
   "source": [
    "chatbot = ChatBot(\"BotLira\", tagger_language=ENGSM)\n",
    "\n",
    "conversa = [\n",
    "    \"Olá\",\n",
    "    \"Olá em que posso ser útil?\",\n",
    "    \"Necessito de informações sobre meu canal\",\n",
    "    \"Estarei remetendo o senhor para o setor responsável\",\n",
    "    \"Obrigado\",\n",
    "    \"Por nada, tenha um ótimo dia\",\n",
    "    \"Você também\",\n",
    "    \"O Youtube agradece o seu contato\",\n",
    "]\n",
    "\n",
    "trainer = ListTrainer(chatbot)\n",
    "trainer.train(conversa)"
   ]
  },
  {
   "cell_type": "code",
   "execution_count": null,
   "id": "8e3299f9",
   "metadata": {},
   "outputs": [],
   "source": [
    "while True:\n",
    "    mensagem = input(\"Mande uma mensagem para o chatbot:\")\n",
    "    if mensagem == \"parar\":\n",
    "        break\n",
    "    resposta = chatbot.get_response(mensagem)\n",
    "    print(resposta)"
   ]
  },
  {
   "cell_type": "code",
   "execution_count": null,
   "id": "67c96530",
   "metadata": {},
   "outputs": [],
   "source": [
    "chatbot.storage.drop()"
   ]
  },
  {
   "cell_type": "code",
   "execution_count": null,
   "id": "e19f235f",
   "metadata": {},
   "outputs": [],
   "source": []
  }
 ],
 "metadata": {
  "kernelspec": {
   "display_name": "Python 3",
   "language": "python",
   "name": "python3"
  },
  "language_info": {
   "codemirror_mode": {
    "name": "ipython",
    "version": 3
   },
   "file_extension": ".py",
   "mimetype": "text/x-python",
   "name": "python",
   "nbconvert_exporter": "python",
   "pygments_lexer": "ipython3",
   "version": "3.6.13"
  }
 },
 "nbformat": 4,
 "nbformat_minor": 5
}
